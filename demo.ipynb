{
 "cells": [
  {
   "cell_type": "code",
   "execution_count": null,
   "metadata": {},
   "outputs": [],
   "source": [
    "import google.generativeai as genai\n",
    "import os\n",
    "\n",
    "from dotenv import load_dotenv\n",
    "load_dotenv()\n",
    "\n",
    "KEY= os.environ[\"API_KEY\"]"
   ]
  },
  {
   "cell_type": "code",
   "execution_count": null,
   "metadata": {},
   "outputs": [],
   "source": [
    "genai.configure(api_key=KEY)"
   ]
  },
  {
   "cell_type": "markdown",
   "metadata": {},
   "source": [
    "## Text"
   ]
  },
  {
   "cell_type": "code",
   "execution_count": null,
   "metadata": {},
   "outputs": [],
   "source": [
    "model = genai.GenerativeModel('gemini-pro')\n",
    "\n",
    "response = model.generate_content(\"Write a story about a magic backpack.\")\n",
    "print(response.text)"
   ]
  },
  {
   "cell_type": "code",
   "execution_count": null,
   "metadata": {},
   "outputs": [],
   "source": [
    "# Additional Config to Set up the model\n",
    "from google.generativeai.types import HarmCategory, HarmBlockThreshold, GenerationConfig\n",
    "\n",
    "generation_config = GenerationConfig(\n",
    "    temperature=1,\n",
    "    max_output_tokens=8192,\n",
    ")\n",
    "\n",
    "safety_settings = {\n",
    "    HarmCategory.HARM_CATEGORY_HARASSMENT: HarmBlockThreshold.BLOCK_MEDIUM_AND_ABOVE,\n",
    "    HarmCategory.HARM_CATEGORY_HATE_SPEECH: HarmBlockThreshold.BLOCK_MEDIUM_AND_ABOVE,\n",
    "    HarmCategory.HARM_CATEGORY_SEXUALLY_EXPLICIT: HarmBlockThreshold.BLOCK_MEDIUM_AND_ABOVE,\n",
    "    HarmCategory.HARM_CATEGORY_DANGEROUS_CONTENT: HarmBlockThreshold.BLOCK_MEDIUM_AND_ABOVE,\n",
    "}\n",
    "\n",
    "\n",
    "model = genai.GenerativeModel(model_name=\"gemini-1.5-pro-latest\",\n",
    "                              generation_config=generation_config,\n",
    "                              safety_settings=safety_settings)\n",
    "\n",
    "model_flash = genai.GenerativeModel(model_name=\"gemini-1.5-flash-latest\",\n",
    "                              generation_config=generation_config,\n",
    "                              safety_settings=safety_settings)\n",
    "     "
   ]
  },
  {
   "cell_type": "markdown",
   "metadata": {},
   "source": [
    "## Image"
   ]
  },
  {
   "cell_type": "code",
   "execution_count": null,
   "metadata": {},
   "outputs": [],
   "source": [
    "from PIL import Image\n",
    "\n",
    "image_filename = \"croissant.jpg\"\n",
    "img = Image.open(image_filename)\n",
    "img"
   ]
  },
  {
   "cell_type": "code",
   "execution_count": null,
   "metadata": {},
   "outputs": [],
   "source": [
    "prompt = \"\"\"\n",
    "Describe this image, including which country is famous for having this food and what is the best pairing for it.\n",
    "\"\"\"\n",
    "\n",
    "response = model.generate_content([prompt, img])\n",
    "print(response.text)"
   ]
  },
  {
   "cell_type": "markdown",
   "metadata": {},
   "source": [
    "## Audio \n"
   ]
  },
  {
   "cell_type": "code",
   "execution_count": null,
   "metadata": {},
   "outputs": [],
   "source": [
    "from IPython.display import Audio\n",
    "\n",
    "audio_filename= 'elonmusk_interview.wav'\n",
    "Audio(audio_filename, autoplay=True)"
   ]
  },
  {
   "cell_type": "markdown",
   "metadata": {},
   "source": [
    "### Audio Upload"
   ]
  },
  {
   "cell_type": "code",
   "execution_count": null,
   "metadata": {},
   "outputs": [],
   "source": [
    "audio_file = genai.upload_file(path=audio_filename)"
   ]
  },
  {
   "cell_type": "code",
   "execution_count": null,
   "metadata": {},
   "outputs": [],
   "source": [
    "prompt = \"Listen carefully to the following audio file. Provide a brief summary.\"\n",
    "\n",
    "model_flash = genai.GenerativeModel(model_name=\"models/gemini-1.5-flash\")\n",
    "response = model_flash.generate_content([prompt, audio_file])\n",
    "\n",
    "print(response.text)"
   ]
  },
  {
   "cell_type": "code",
   "execution_count": null,
   "metadata": {},
   "outputs": [],
   "source": [
    "model_pro = genai.GenerativeModel(model_name=\"models/gemini-1.5-pro\")\n",
    "response = model_pro.generate_content([prompt, audio_file], request_options={\"timeout\":600})\n",
    "\n",
    "print(response.text)"
   ]
  },
  {
   "cell_type": "code",
   "execution_count": null,
   "metadata": {},
   "outputs": [],
   "source": [
    "# delete audio file\n",
    "genai.delete_file(name=audio_file.name)"
   ]
  },
  {
   "cell_type": "markdown",
   "metadata": {},
   "source": [
    "### Audio (Inline)"
   ]
  },
  {
   "cell_type": "code",
   "execution_count": null,
   "metadata": {},
   "outputs": [],
   "source": [
    "from pydub import AudioSegment\n",
    "\n",
    "sound = AudioSegment.from_wav(audio_filename)"
   ]
  },
  {
   "cell_type": "code",
   "execution_count": null,
   "metadata": {},
   "outputs": [],
   "source": [
    "prompt =  \"Please transcribe this recording:\"\n",
    "response = model.generate_content([\n",
    "    prompt,\n",
    "    {\n",
    "        \"mime_type\": \"audio/wave\",\n",
    "        \"data\": sound[:10_000].export().read() # 10 seconds\n",
    "    }\n",
    "])"
   ]
  },
  {
   "cell_type": "code",
   "execution_count": null,
   "metadata": {},
   "outputs": [],
   "source": [
    "print(response.text)"
   ]
  },
  {
   "cell_type": "markdown",
   "metadata": {},
   "source": [
    "## Video"
   ]
  },
  {
   "cell_type": "code",
   "execution_count": null,
   "metadata": {},
   "outputs": [],
   "source": [
    "# !wget https://download.blender.org/peach/bigbuckbunny_movies/BigBuckBunny_320x180.mp4"
   ]
  },
  {
   "cell_type": "code",
   "execution_count": null,
   "metadata": {},
   "outputs": [],
   "source": [
    "video_filename = \"BigBuckBunny_320x180.mp4\"\n",
    "\n",
    "print(f\"Uploading file...\")\n",
    "video_file = genai.upload_file(path=video_filename)\n",
    "print(f\"Completed upload: {video_file.uri}\")"
   ]
  },
  {
   "cell_type": "code",
   "execution_count": null,
   "metadata": {},
   "outputs": [],
   "source": [
    "prompt = \"Describe and summarise the video\"\n",
    "\n",
    "# Make the LLM request.\n",
    "print(\"Making LLM inference request...\")\n",
    "response = model_flash.generate_content([prompt, video_file],\n",
    "                                  request_options={\"timeout\": 600})\n",
    "\n",
    "print(response.text)\n",
    "     "
   ]
  },
  {
   "cell_type": "code",
   "execution_count": null,
   "metadata": {},
   "outputs": [],
   "source": [
    "# Files are automatically deleted after 2 days or you can manually delete them \n",
    "genai.delete_file(video_file.name)\n",
    "print(f'Deleted file {video_file.uri}')"
   ]
  },
  {
   "cell_type": "markdown",
   "metadata": {},
   "source": [
    "## PDFs"
   ]
  },
  {
   "cell_type": "code",
   "execution_count": null,
   "metadata": {},
   "outputs": [],
   "source": [
    "from pdf2image import convert_from_path\n",
    "\n",
    "def pdf_to_images(file_path, output_folder=\"output_folder\"):\n",
    "    \"\"\"Converts a PDF file into images for each page, saves them to a folder, and returns a list of image paths.\"\"\"\n",
    "\n",
    "    # Create output folder if it doesn't exist\n",
    "    if not os.path.exists(output_folder):\n",
    "        os.makedirs(output_folder)\n",
    "\n",
    "    # Convert PDF to images\n",
    "    images = convert_from_path(file_path, dpi=200, output_folder=output_folder, fmt=\"jpg\")\n",
    "\n",
    "    # Generate image paths\n",
    "    image_paths = []\n",
    "    pages_list = []\n",
    "    upload_file_name = []\n",
    "    for i, image in enumerate(images):\n",
    "        image_name = f\"page_{i+1}.jpg\"  # Page numbers start from 1\n",
    "        image_path = os.path.join(output_folder, image_name)\n",
    "        image.save(image_path, \"JPEG\")\n",
    "        image_paths.append(image_path)\n",
    "        files_to_upload = genai.upload_file(image_path, display_name=image_path)\n",
    "        pages_list.append(files_to_upload)\n",
    "        upload_file_name.append([files_to_upload.name, files_to_upload.display_name])\n",
    "\n",
    "    return image_paths, pages_list, upload_file_name\n",
    "\n",
    "def make_request(prompt, files):\n",
    "  request = [prompt]\n",
    "  for file in files:\n",
    "    request.append(file)\n",
    "  return request\n",
    "\n",
    "def delete_files(output_folder):\n",
    "  for filename in os.listdir(output_folder):\n",
    "    if filename.endswith(\".jpg\"):\n",
    "      file_path = os.path.join(output_folder, filename)\n",
    "      genai.delete_file(name=file_path)\n",
    "     "
   ]
  },
  {
   "cell_type": "code",
   "execution_count": null,
   "metadata": {},
   "outputs": [],
   "source": [
    "pdf_path = \"marathon_l1.pdf\"\n",
    "output_folder = \"tmp/output_images\"\n",
    "\n",
    "image_paths, pages_list, upload_file_name = pdf_to_images(pdf_path, output_folder)\n",
    "\n",
    "prompt = \"How many weeks does the training plan cover?\"\n",
    "response = model.generate_content(\n",
    "    make_request(prompt, pages_list),\n",
    "    request_options={\"timeout\": 600}\n",
    "    )\n",
    "\n",
    "print(response.text)"
   ]
  }
 ],
 "metadata": {
  "kernelspec": {
   "display_name": "env",
   "language": "python",
   "name": "python3"
  },
  "language_info": {
   "codemirror_mode": {
    "name": "ipython",
    "version": 3
   },
   "file_extension": ".py",
   "mimetype": "text/x-python",
   "name": "python",
   "nbconvert_exporter": "python",
   "pygments_lexer": "ipython3",
   "version": "3.9.7"
  }
 },
 "nbformat": 4,
 "nbformat_minor": 2
}
